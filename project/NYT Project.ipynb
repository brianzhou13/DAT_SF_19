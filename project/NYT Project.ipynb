{
 "cells": [
  {
   "cell_type": "code",
   "execution_count": 6,
   "metadata": {
    "collapsed": false
   },
   "outputs": [
    {
     "ename": "IndentationError",
     "evalue": "expected an indented block (<ipython-input-6-94befd27a4d0>, line 47)",
     "output_type": "error",
     "traceback": [
      "\u001b[0;36m  File \u001b[0;32m\"<ipython-input-6-94befd27a4d0>\"\u001b[0;36m, line \u001b[0;32m47\u001b[0m\n\u001b[0;31m    \u001b[0m\n\u001b[0m    ^\u001b[0m\n\u001b[0;31mIndentationError\u001b[0m\u001b[0;31m:\u001b[0m expected an indented block\n"
     ]
    }
   ],
   "source": [
    "#PROJECT \n",
    "#Let's first import and get a for-loop to import WSJ data\n",
    "\n",
    "import numpy as np\n",
    "import pandas as pd\n",
    "import requests\n",
    "\n",
    "#nyt = \"http://api.nytimes.com/svc/semantic/v2/concept/.json?\" This is for semantic search\n",
    "nyt = \"http://api.nytimes.com/svc/search/v2/articlesearch\"\n",
    "\n",
    "#keyStr = \"&api-key=ecd2e0bd78c58b34f7d8660f8b141af9:15:73865716\" This is for semantic search\n",
    "keyStr = \"&api-key=5c4de74a13eacdabd32479bfc11dd47f:16:73865716\"\n",
    "\n",
    "b = [\"animal\", \"ANIMAL\", \"animals, hi\"]\n",
    "\n",
    "#import requests\n",
    "\n",
    "num = 1\n",
    "loopNum = len(b) #3\n",
    "loops = range(num * loopNum * loopNum) #1 * 3 *  #\n",
    "\n",
    "for i in loops:\n",
    "    from bs4 import BeautifulSoup\n",
    "    \n",
    "    if (i/len(b)) < (len(b)*2):\n",
    "        bif = 1\n",
    "    else:\n",
    "        bif = (i/len(b)/len(b))\n",
    "    \n",
    "    if(i/len(b) < len(b)):\n",
    "        bi = (i/len(b))\n",
    "    else:\n",
    "        bi = (i/len(b)) - (len(b)*bif)\n",
    "        \n",
    "    var = \"q=restaurant+\" + b[bi] + \"&fl=abstract&page=\" + str(i) #no & at end\n",
    "    r = requests.get(nyt + var + keyStr) #this \n",
    "\n",
    "    if str(r) == \"<Response [200]>\":\n",
    "        print r\n",
    "        f = open(\"200\" + var + \".txt\", \"w\") #what is var?\n",
    "        f.write(r.text)\n",
    "        f.close()\n",
    "    else:\n",
    "        "
   ]
  },
  {
   "cell_type": "code",
   "execution_count": null,
   "metadata": {
    "collapsed": true
   },
   "outputs": [],
   "source": []
  }
 ],
 "metadata": {
  "kernelspec": {
   "display_name": "Python 2",
   "language": "python",
   "name": "python2"
  },
  "language_info": {
   "codemirror_mode": {
    "name": "ipython",
    "version": 2
   },
   "file_extension": ".py",
   "mimetype": "text/x-python",
   "name": "python",
   "nbconvert_exporter": "python",
   "pygments_lexer": "ipython2",
   "version": "2.7.11"
  }
 },
 "nbformat": 4,
 "nbformat_minor": 0
}
