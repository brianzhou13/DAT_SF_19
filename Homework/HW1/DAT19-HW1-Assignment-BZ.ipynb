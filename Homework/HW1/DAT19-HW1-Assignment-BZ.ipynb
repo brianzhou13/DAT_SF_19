{
 "cells": [
  {
   "cell_type": "markdown",
   "metadata": {},
   "source": [
    "# DAT 19: Homework 1 Assignment"
   ]
  },
  {
   "cell_type": "markdown",
   "metadata": {},
   "source": [
    "## Instructions\n",
    "\n",
    "In this assignment, we will explore the passenger list of the Titanic, as provided in a well-known [Kaggle](https://www.kaggle.com) competition. For this assignment, we are concerned only with initial exploration. Please answer the specific questions listed below.\n",
    "\n",
    "The dataset is a list of passengers. The second column of the dataset is the label for each person indicating whether that person survived (1) or did not survive (0). The data is described in more detail below.\n",
    "\n",
    "There is no need to download the data from Kaggle. We have provided the titanic.csv dataset for you in the same  directory as this assignment.\n",
    "\n",
    "Please do all your analysis to answer the questions below in this Jupyter notebook. Show your work. Questions 10, 13, and 14 ask for your thoughts as a few sentences (regular prose, not code :-).\n",
    "\n",
    "**Please submit your completed notebook by 11:59PM on Thursday, December 17.**"
   ]
  },
  {
   "cell_type": "markdown",
   "metadata": {},
   "source": [
    "## About the Data\n",
    "\n",
    "```\n",
    "VARIABLE DESCRIPTIONS:\n",
    "survival        Survival\n",
    "                (0 = No; 1 = Yes)\n",
    "pclass          Passenger Class\n",
    "                (1 = 1st; 2 = 2nd; 3 = 3rd)\n",
    "name            Name\n",
    "sex             Sex\n",
    "age             Age\n",
    "sibsp           Number of Siblings/Spouses Aboard\n",
    "parch           Number of Parents/Children Aboard\n",
    "ticket          Ticket Number\n",
    "fare            Passenger Fare\n",
    "cabin           Cabin\n",
    "embarked        Port of Embarkation\n",
    "                (C = Cherbourg; Q = Queenstown; S = Southampton)\n",
    "\n",
    "SPECIAL NOTES:\n",
    "Pclass is a proxy for socio-economic status (SES)\n",
    " 1st ~ Upper; 2nd ~ Middle; 3rd ~ Lower\n",
    "\n",
    "Age is in Years; Fractional if Age less than One (1)\n",
    " If the Age is Estimated, it is in the form xx.5\n",
    "\n",
    "With respect to the family relation variables (i.e. sibsp and parch)\n",
    "some relations were ignored.  The following are the definitions used\n",
    "for sibsp and parch.\n",
    "\n",
    "Sibling:  Brother, Sister, Stepbrother, or Stepsister of Passenger Aboard Titanic\n",
    "Spouse:   Husband or Wife of Passenger Aboard Titanic (Mistresses and Fiances Ignored)\n",
    "Parent:   Mother or Father of Passenger Aboard Titanic\n",
    "Child:    Son, Daughter, Stepson, or Stepdaughter of Passenger Aboard Titanic\n",
    "\n",
    "Other family relatives excluded from this study include cousins,\n",
    "nephews/nieces, aunts/uncles, and in-laws.  Some children travelled\n",
    "only with a nanny, therefore parch=0 for them.  As well, some\n",
    "travelled with very close friends or neighbors in a village, however,\n",
    "the definitions do not support such relations.\n",
    "```"
   ]
  },
  {
   "cell_type": "markdown",
   "metadata": {},
   "source": [
    "### Load Data\n",
    "\n",
    "Start by loading the Titanic data into a numpy array. The code to do this is included below to get you started."
   ]
  },
  {
   "cell_type": "code",
   "execution_count": 7,
   "metadata": {
    "collapsed": false
   },
   "outputs": [
    {
     "name": "stdout",
     "output_type": "stream",
     "text": [
      "<type 'numpy.ndarray'>\n",
      "(891, 12)\n",
      "[['1' '0' '3' 'Braund, Mr. Owen Harris' 'male' '22' '1' '0' 'A/5 21171'\n",
      "  '7.25' '' 'S']\n",
      " ['2' '1' '1' 'Cumings, Mrs. John Bradley (Florence Briggs Thayer)'\n",
      "  'female' '38' '1' '0' 'PC 17599' '71.2833' 'C85' 'C']\n",
      " ['3' '1' '3' 'Heikkinen, Miss. Laina' 'female' '26' '0' '0'\n",
      "  'STON/O2. 3101282' '7.925' '' 'S']\n",
      " ['4' '1' '1' 'Futrelle, Mrs. Jacques Heath (Lily May Peel)' 'female' '35'\n",
      "  '1' '0' '113803' '53.1' 'C123' 'S']\n",
      " ['5' '0' '3' 'Allen, Mr. William Henry' 'male' '35' '0' '0' '373450'\n",
      "  '8.05' '' 'S']\n",
      " ['6' '0' '3' 'Moran, Mr. James' 'male' '' '0' '0' '330877' '8.4583' '' 'Q']\n",
      " ['7' '0' '1' 'McCarthy, Mr. Timothy J' 'male' '54' '0' '0' '17463'\n",
      "  '51.8625' 'E46' 'S']\n",
      " ['8' '0' '3' 'Palsson, Master. Gosta Leonard' 'male' '2' '3' '1' '349909'\n",
      "  '21.075' '' 'S']\n",
      " ['9' '1' '3' 'Johnson, Mrs. Oscar W (Elisabeth Vilhelmina Berg)' 'female'\n",
      "  '27' '0' '2' '347742' '11.1333' '' 'S']\n",
      " ['10' '1' '2' 'Nasser, Mrs. Nicholas (Adele Achem)' 'female' '14' '1' '0'\n",
      "  '237736' '30.0708' '' 'C']]\n",
      "\n",
      "...\n",
      "['891' '0' '3' 'Dooley, Mr. Patrick' 'male' '32' '0' '0' '370376' '7.75' ''\n",
      " 'Q']\n"
     ]
    }
   ],
   "source": [
    "# We'll use the csv module from the Python standard library to read each row of our input data file\n",
    "#   into a list that we then convert into a numpy array.\n",
    "\n",
    "import csv as csv #csv will denote all csv files\n",
    "import numpy as np\n",
    "\n",
    "file_object = csv.reader(open('titanic.csv', 'rb'))\n",
    "header = file_object.next() #First, let's strip off the header\n",
    "\n",
    "data = [] \n",
    "for row in file_object:\n",
    "    data.append(row) #data will be a list of indexes\n",
    "\n",
    "data = np.array(data) #Turn our Python list into a numpy array\n",
    "\n",
    "# Let's see what our data looks like. Notice what type the data appears to be inside the numpy array.\n",
    "\n",
    "#print header\n",
    "print type(data)\n",
    "print data.shape\n",
    "\n",
    "print data[:10,:]\n",
    "print '\\n' + '...'\n",
    "print data[-1,:]"
   ]
  },
  {
   "cell_type": "markdown",
   "metadata": {},
   "source": [
    "## Homework Questions"
   ]
  },
  {
   "cell_type": "markdown",
   "metadata": {},
   "source": [
    "**1) How many passengers are in our passenger list? For this assignment, we’ll assume our dataset represents the full passenger list for the Titanic.**"
   ]
  },
  {
   "cell_type": "code",
   "execution_count": 26,
   "metadata": {
    "collapsed": false,
    "scrolled": true
   },
   "outputs": [
    {
     "name": "stdout",
     "output_type": "stream",
     "text": [
      "There are 891 passengers in our list.\n"
     ]
    }
   ],
   "source": [
    "# Your code here for num_passengers. Uncomment the line below to format your answer.\n",
    "\n",
    "data_shape = data.shape\n",
    "#print type(data_shape)\n",
    "\n",
    "row = data_shape[0]\n",
    "#print row\n",
    "\n",
    "num_passengers = row\n",
    "\n",
    "print 'There are ' + str(num_passengers) + ' passengers in our list.'"
   ]
  },
  {
   "cell_type": "markdown",
   "metadata": {},
   "source": [
    "**2) What is the overall survival rate (as a percentage of total passengers in our list)?**"
   ]
  },
  {
   "cell_type": "code",
   "execution_count": 82,
   "metadata": {
    "collapsed": false
   },
   "outputs": [
    {
     "name": "stdout",
     "output_type": "stream",
     "text": [
      "<type 'list'>\n"
     ]
    }
   ],
   "source": [
    "#differentiate between number survived / \n",
    "\n",
    "#need to turn num_passengers into a list of ints\n",
    "\n",
    "#num_passengers_list = [:,num_passengers]\n",
    "\n",
    "\n",
    "num_passenger_l = range(0, num_passengers)\n",
    "print type(num_passenger_l)\n",
    "\n",
    "\n",
    "#for num in num_passenger_l:\n",
    "    \n",
    "\n",
    "#num_passengers_list.append(num_passengers+1)\n",
    "#print num_passengers_list\n",
    "\n"
   ]
  },
  {
   "cell_type": "code",
   "execution_count": 115,
   "metadata": {
    "collapsed": false
   },
   "outputs": [
    {
     "name": "stdout",
     "output_type": "stream",
     "text": [
      "<type 'list'>\n",
      "Of 891 passengers, 342 survived.\n",
      "The survival rate is 0.383838383838 or 38%\n"
     ]
    }
   ],
   "source": [
    "#HINT: You may want to import another module here\n",
    "#assuming 0 is dead, and 1 is alive\n",
    "\n",
    "survived_sex = []\n",
    "count = 0\n",
    "\n",
    "num_passenger_l = range(0, num_passengers)\n",
    "print type(num_passenger_l)\n",
    "\n",
    "for val in num_passenger_l: #val is an int\n",
    "    if ((data[val][1]) == \"1\"):\n",
    "        survived_sex.append(data[val][4])\n",
    "        count = count + 1\n",
    "        \n",
    "num_survived = count #setting num_survived as the counter\n",
    "\n",
    "survival_rate = float(num_survived) / float(num_passengers)\n",
    "#print type(num_survived)\n",
    "#print type(num_passengers)\n",
    "#print survival_rate\n",
    "\n",
    "#Your code here to calculate num_survived and survival_rate. \n",
    "#Again, we've provided some code you can use to format your answer.\n",
    "\n",
    "\n",
    "\n",
    "print 'Of ' + str(num_passengers) + ' passengers, ' + str(num_survived) + ' survived.'\n",
    "print 'The survival rate is ' + str(survival_rate) + ' or '+ str(\"{0:.0f}%\".format(survival_rate * 100))"
   ]
  },
  {
   "cell_type": "markdown",
   "metadata": {},
   "source": [
    "**3) How many male passengers were onboard?**"
   ]
  },
  {
   "cell_type": "code",
   "execution_count": 104,
   "metadata": {
    "collapsed": false
   },
   "outputs": [
    {
     "name": "stdout",
     "output_type": "stream",
     "text": [
      "male\n"
     ]
    },
    {
     "data": {
      "text/plain": [
       "numpy.string_"
      ]
     },
     "execution_count": 104,
     "metadata": {},
     "output_type": "execute_result"
    }
   ],
   "source": [
    "print data[0][4]\n",
    "type (data[0][4])"
   ]
  },
  {
   "cell_type": "code",
   "execution_count": 110,
   "metadata": {
    "collapsed": false
   },
   "outputs": [
    {
     "name": "stdout",
     "output_type": "stream",
     "text": [
      "There were 577 male passengers onboard.\n"
     ]
    }
   ],
   "source": [
    "# Your code here to calculate num_males\n",
    "\n",
    "\n",
    "num_males = 0\n",
    "\n",
    "for val in num_passenger_l: #val is an int\n",
    "    if ((data[val][4]) == \"male\"):\n",
    "        num_males = num_males + 1\n",
    "\n",
    "\n",
    "print 'There were ' + str(num_males) + ' male passengers onboard.'"
   ]
  },
  {
   "cell_type": "markdown",
   "metadata": {},
   "source": [
    "**4) How many female passengers were onboard?**"
   ]
  },
  {
   "cell_type": "code",
   "execution_count": 114,
   "metadata": {
    "collapsed": false
   },
   "outputs": [
    {
     "name": "stdout",
     "output_type": "stream",
     "text": [
      "There were 314 female passengers onboard.\n"
     ]
    }
   ],
   "source": [
    "# Your code here to calculate num_females\n",
    "\n",
    "num_females = 0\n",
    "\n",
    "for val in num_passenger_l: #val is an int\n",
    "    if ((data[val][4]) == \"female\"):\n",
    "        num_females = num_females + 1\n",
    "\n",
    "\n",
    "\n",
    "\n",
    "print 'There were ' + str(num_females) + ' female passengers onboard.'"
   ]
  },
  {
   "cell_type": "markdown",
   "metadata": {},
   "source": [
    "**5) What is the overall survival rate of male passengers?**"
   ]
  },
  {
   "cell_type": "code",
   "execution_count": 120,
   "metadata": {
    "collapsed": false
   },
   "outputs": [
    {
     "name": "stdout",
     "output_type": "stream",
     "text": [
      "The survival rate of male passengers was 12.23%\n"
     ]
    }
   ],
   "source": [
    "# Your code here to calculate male_survival_rate\n",
    "\n",
    "#num_survived is the number of people who survived\n",
    "#num_passenger_surv is an array from 0 to num_survived\n",
    "#survived_sex was from problem 2, and tracked the sex of all people who survived\n",
    "#male_survival is a counter for the num of males survived\n",
    "#male_survival_rate is the survival rate of males\n",
    "#num_passengers is the total number of passengers\n",
    "\n",
    "num_passenger_surv = range(0, num_survived)\n",
    "male_survival = 0\n",
    "\n",
    "for val in num_passenger_surv:\n",
    "    if (survived_sex[val] == \"male\"):\n",
    "        male_survival = male_survival + 1\n",
    "\n",
    "male_survival_rate = float(male_survival) / float(num_passengers)\n",
    "\n",
    "\n",
    "print 'The survival rate of male passengers was ' + str(\"{0:.2f}%\".format(male_survival_rate * 100))"
   ]
  },
  {
   "cell_type": "markdown",
   "metadata": {},
   "source": [
    "**6) What is the overall survival rate of female passengers?**"
   ]
  },
  {
   "cell_type": "code",
   "execution_count": 132,
   "metadata": {
    "collapsed": false
   },
   "outputs": [
    {
     "name": "stdout",
     "output_type": "stream",
     "text": [
      "every entry is either male or female\n",
      "The survival rate of female passengers was 26.15%\n"
     ]
    }
   ],
   "source": [
    "# Your code here to calculate female_survival_rate\n",
    "#num_survived = total number of people survived (male or female)\n",
    "\n",
    "\n",
    "if((num_females + num_males) == (num_passengers)):\n",
    "    print \"every entry is either male or female\"\n",
    "    female_survival = (num_survived - male_survival)\n",
    "    female_survival_rate = float(female_survival) / float(num_passengers)\n",
    "\n",
    "\n",
    "print 'The survival rate of female passengers was ' + str(\"{0:.2f}%\".format(female_survival_rate * 100))"
   ]
  },
  {
   "cell_type": "markdown",
   "metadata": {},
   "source": [
    "**7) What is the average age of all passengers onboard?**"
   ]
  },
  {
   "cell_type": "code",
   "execution_count": 148,
   "metadata": {
    "collapsed": false
   },
   "outputs": [
    {
     "name": "stdout",
     "output_type": "stream",
     "text": [
      "The average age of all passengers onboard was 22.00\n"
     ]
    }
   ],
   "source": [
    "# Your code here to calculate avg_age\n",
    "# HINT: This may be trickier than it first seems. Look at the age values in the raw data file.\n",
    "\n",
    "type(data[0][5])\n",
    "#the 'Age' column is all string\n",
    "\n",
    "sum_age = 0\n",
    "\n",
    "for val in num_passenger_l:\n",
    "    sum_age = float(sum_age) + float(data[0][5])\n",
    "    \n",
    "avg_age = sum_age / float(num_passengers)\n",
    "\n",
    "print 'The average age of all passengers onboard was ' + str(\"{0:.2f}\".format(avg_age))"
   ]
  },
  {
   "cell_type": "markdown",
   "metadata": {},
   "source": [
    "**8) What is the average age of passengers who survived?**"
   ]
  },
  {
   "cell_type": "code",
   "execution_count": 153,
   "metadata": {
    "collapsed": false
   },
   "outputs": [
    {
     "name": "stdout",
     "output_type": "stream",
     "text": [
      "7524.0\n",
      "342\n",
      "The average of age of passengers who survived was 22.00\n"
     ]
    }
   ],
   "source": [
    "# Your code here to calculate avg_age_survived\n",
    "\n",
    "sum_survived = 0\n",
    "\n",
    "for val in num_passenger_surv:\n",
    "    sum_survived = float(sum_survived) + float(data[0][5])\n",
    "\n",
    "avg_age_survived = sum_survived / num_survived\n",
    "print sum_survived\n",
    "print num_survived\n",
    "\n",
    "print 'The average of age of passengers who survived was ' + str(\"{0:.2f}\".format(avg_age_survived))"
   ]
  },
  {
   "cell_type": "markdown",
   "metadata": {},
   "source": [
    "**9) What is the average age of passengers who did not survive?**"
   ]
  },
  {
   "cell_type": "code",
   "execution_count": 155,
   "metadata": {
    "collapsed": false
   },
   "outputs": [
    {
     "name": "stdout",
     "output_type": "stream",
     "text": [
      "12078.0\n",
      "549\n",
      "The average of age of passengers who did not survive was 22.00\n"
     ]
    }
   ],
   "source": [
    "# Your code here to calculate avg_age_not_survive\n",
    "\n",
    "sum_died = sum_age - sum_survived \n",
    "\n",
    "avg_age_not_survive = float(sum_died) / (num_passengers - num_survived)\n",
    "print sum_died\n",
    "print num_passengers - num_survived\n",
    "\n",
    "print 'The average of age of passengers who did not survive was ' + str(\"{0:.2f}\".format(avg_age_not_survive))"
   ]
  },
  {
   "cell_type": "markdown",
   "metadata": {},
   "source": [
    "**10) At this (early) point in our analysis, what might you infer about any patterns you are seeing in who survived / did not survive?**"
   ]
  },
  {
   "cell_type": "markdown",
   "metadata": {
    "collapsed": true
   },
   "source": [
    "I noticed that the average age of passengers who did not survive, average age of passengers who did survive, and the average age of all passengers onboard were all equal to 22.00\n",
    "\n"
   ]
  },
  {
   "cell_type": "markdown",
   "metadata": {},
   "source": [
    "**11) How many passengers are in each of the three classes of service (e.g. First, Second, Third?)**"
   ]
  },
  {
   "cell_type": "code",
   "execution_count": 157,
   "metadata": {
    "collapsed": false
   },
   "outputs": [
    {
     "name": "stdout",
     "output_type": "stream",
     "text": [
      "216\n",
      "184\n",
      "491\n",
      "891\n"
     ]
    }
   ],
   "source": [
    "# Your code here\n",
    "# You do not need to format the output nicely like we did for the questions above.\n",
    "\n",
    "#assuming Pclass means Cabin Service (First, Second, Third)\n",
    "\n",
    "Pclass_1 = 0\n",
    "Pclass_2 = 0\n",
    "Pclass_3 = 0\n",
    "\n",
    "for val in num_passenger_l:\n",
    "    if((data[val][2])=='1'):\n",
    "        Pclass_1 = Pclass_1 + 1\n",
    "        \n",
    "    if((data[val][2])=='2'):\n",
    "        Pclass_2 = Pclass_2 + 1\n",
    "        \n",
    "    if((data[val][2]=='3')):\n",
    "        Pclass_3 = Pclass_3 + 1\n",
    "\n",
    "print Pclass_1\n",
    "print Pclass_2 \n",
    "print Pclass_3\n",
    "\n",
    "print Pclass_1 + Pclass_2 + Pclass_3\n",
    "\n"
   ]
  },
  {
   "cell_type": "markdown",
   "metadata": {},
   "source": [
    "**12) What is the survival rate for passengers in each of the three classes of service?**"
   ]
  },
  {
   "cell_type": "code",
   "execution_count": 162,
   "metadata": {
    "collapsed": false
   },
   "outputs": [
    {
     "name": "stdout",
     "output_type": "stream",
     "text": [
      "891\n",
      "0.62962962963\n",
      "0.472826086957\n",
      "0.242362525458\n"
     ]
    }
   ],
   "source": [
    "# Your code here\n",
    "# HINT: Averaging of the 1's and 0's in the \"Survived\" column will give a survival rate.\n",
    "# We want the survival rate for each passenger class.\n",
    "# You do not need to format the output nicely.\n",
    "\n",
    "Pclass_1 = 0\n",
    "Pclass_1_surv = 0\n",
    "\n",
    "Pclass_2 = 0\n",
    "Pclass_2_surv = 0\n",
    "\n",
    "Pclass_3 = 0\n",
    "Pclass_3_surv = 0\n",
    "\n",
    "\n",
    "for val in num_passenger_l:\n",
    "    if((data[val][2])=='1'):\n",
    "        Pclass_1 = Pclass_1 + 1\n",
    "        if((data[val][1])=='1'):\n",
    "            Pclass_1_surv = Pclass_1_surv + 1\n",
    "        \n",
    "    if((data[val][2])=='2'):\n",
    "        Pclass_2 = Pclass_2 + 1\n",
    "        if((data[val][1])=='1'):\n",
    "            Pclass_2_surv = Pclass_2_surv + 1\n",
    "        \n",
    "        \n",
    "    if((data[val][2]=='3')):\n",
    "        Pclass_3 = Pclass_3 + 1\n",
    "        if((data[val][1])=='1'):\n",
    "            Pclass_3_surv = Pclass_3_surv + 1\n",
    "\n",
    "Tot = Pclass_1_surv + Pclass_2_surv + Pclass_3_surv +  (num_passengers - num_survived)\n",
    "print Tot\n",
    "\n",
    "Pclass_1_surv_rate = float(Pclass_1_surv) / float(Pclass_1)\n",
    "Pclass_2_surv_rate = float(Pclass_2_surv) / float(Pclass_2)\n",
    "Pclass_3_surv_rate = float(Pclass_3_surv) / float(Pclass_3)\n",
    "\n",
    "print Pclass_1_surv_rate\n",
    "print Pclass_2_surv_rate\n",
    "print Pclass_3_surv_rate"
   ]
  },
  {
   "cell_type": "markdown",
   "metadata": {},
   "source": [
    "**13) How does what we learned in 11) and 12) influence our early conclusions from 10) ?**"
   ]
  },
  {
   "cell_type": "markdown",
   "metadata": {
    "collapsed": true
   },
   "source": [
    "We learned from 11 that the bulk of the people onboard were in Cabin 3, or were part of the Lower Class\n",
    "\n",
    "We learned from 12 that the highest percentage of the people who survived per Cabin class was Cabin 1.\n",
    "\n",
    "Now I believe that the causation of having 22.0 as an average age across survival/death is due to the fact that there were a lot of children and elders mixed in Cabin 1 who survived, and the bulk age of people in Cabin 3 were 22 and died. "
   ]
  },
  {
   "cell_type": "markdown",
   "metadata": {},
   "source": [
    "**14) If we were to build a predictive model, which features in the data do you think we should include in the model and which can we leave out? Why?**"
   ]
  },
  {
   "cell_type": "markdown",
   "metadata": {
    "collapsed": true
   },
   "source": [
    "If I were to build a predictive model based off this, I would include the age / PClass / Sex / SibSp / Parch / Fare / Embarked / Name /Survived because their data is homogeneous, or consistent.\n",
    "\n",
    "I'd leave out Ticket/ Cabin because they are difficult to quantify since they are a mix of letters and numbers in its string, and are unique (independent). Unique in the sense that if I were to classify them, each value would be unique. "
   ]
  }
 ],
 "metadata": {
  "kernelspec": {
   "display_name": "Python 2",
   "language": "python",
   "name": "python2"
  },
  "language_info": {
   "codemirror_mode": {
    "name": "ipython",
    "version": 2
   },
   "file_extension": ".py",
   "mimetype": "text/x-python",
   "name": "python",
   "nbconvert_exporter": "python",
   "pygments_lexer": "ipython2",
   "version": "2.7.11"
  }
 },
 "nbformat": 4,
 "nbformat_minor": 0
}
